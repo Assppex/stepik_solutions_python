{
 "cells": [
  {
   "cell_type": "code",
   "execution_count": 4,
   "metadata": {},
   "outputs": [
    {
     "name": "stdout",
     "output_type": "stream",
     "text": [
      "13\n"
     ]
    }
   ],
   "source": [
    "i = 0\n",
    "while i <= 10:\n",
    "    i = i + 1\n",
    "    if i > 7:\n",
    "        i = i + 2\n",
    "print(i)"
   ]
  },
  {
   "cell_type": "code",
   "execution_count": 7,
   "metadata": {},
   "outputs": [
    {
     "name": "stdout",
     "output_type": "stream",
     "text": [
      "i:13, kol:9\n"
     ]
    }
   ],
   "source": [
    "i = 0\n",
    "kol = 0\n",
    "while i <= 10:\n",
    "    kol += 1\n",
    "    i = i + 1\n",
    "    if i > 7:\n",
    "        i = i + 2\n",
    "print(\"i:%d, kol:%d\"%(i,kol))"
   ]
  },
  {
   "cell_type": "code",
   "execution_count": 9,
   "metadata": {},
   "outputs": [
    {
     "name": "stdout",
     "output_type": "stream",
     "text": [
      "*\n",
      "**\n",
      "*\n",
      "*\n",
      "**\n",
      "*\n",
      "***\n",
      "*\n",
      "**\n",
      "***\n",
      "17\n"
     ]
    }
   ],
   "source": [
    "i = 0\n",
    "kol = 0\n",
    "while i < 5:\n",
    "    print('*')\n",
    "    kol += 1\n",
    "    if i % 2 == 0:\n",
    "        print('**')\n",
    "        kol += 2\n",
    "    if i > 2:\n",
    "        print('***')\n",
    "        kol += 3\n",
    "    i = i + 1\n",
    "print(kol)"
   ]
  },
  {
   "cell_type": "code",
   "execution_count": 15,
   "metadata": {},
   "outputs": [
    {
     "name": "stdout",
     "output_type": "stream",
     "text": [
      "6\n"
     ]
    }
   ],
   "source": [
    "lst = []\n",
    "while True:\n",
    "    user_input = int(input())\n",
    "    lst.append(user_input)\n",
    "    if user_input == 0:\n",
    "        sum = 0\n",
    "        for el in lst:\n",
    "            sum += el\n",
    "        break\n",
    "print(sum)\n",
    "            "
   ]
  },
  {
   "cell_type": "code",
   "execution_count": 8,
   "metadata": {},
   "outputs": [
    {
     "name": "stdout",
     "output_type": "stream",
     "text": [
      "24\n"
     ]
    }
   ],
   "source": [
    "import sys\n",
    "def Evklid_algo(bigger, lower):\n",
    "    ostatki = []\n",
    "    # Жестко используем алгоритм Евклида для вычисления НОД (наибольший общий делитель), через него считаем НОК (наименьшее общее кратное)\n",
    "    while True:\n",
    "        tmp = bigger%lower\n",
    "        if tmp != 0:    \n",
    "            bigger = lower\n",
    "            lower = tmp\n",
    "        else:\n",
    "            # lower - НОД, вычисляем НОК по НОД\n",
    "            print(int((a*b) / lower))\n",
    "            break\n",
    "        \n",
    "a = int(input())\n",
    "b = int(input())\n",
    "\n",
    "bigger = 0\n",
    "lower = 0\n",
    "\n",
    "if a > b:\n",
    "    bigger = a\n",
    "    lower = b\n",
    "    Evklid_algo(bigger, lower)\n",
    "elif b > a:\n",
    "    bigger = b\n",
    "    lower = a\n",
    "    Evklid_algo(bigger, lower)\n",
    "else:\n",
    "    print(a)\n",
    "\n",
    "    \n",
    "\n"
   ]
  },
  {
   "cell_type": "code",
   "execution_count": 10,
   "metadata": {},
   "outputs": [
    {
     "name": "stdout",
     "output_type": "stream",
     "text": [
      "7\n"
     ]
    }
   ],
   "source": [
    "i = 0\n",
    "s = 0\n",
    "while i < 10:\n",
    "    i = i + 1\n",
    "    s = s + i\n",
    "    if s > 15:\n",
    "        break\n",
    "    i = i + 1\n",
    "print(i)"
   ]
  },
  {
   "cell_type": "code",
   "execution_count": 11,
   "metadata": {},
   "outputs": [
    {
     "name": "stdout",
     "output_type": "stream",
     "text": [
      "10\n"
     ]
    }
   ],
   "source": [
    "i = 0\n",
    "s = 0\n",
    "while i < 10:\n",
    "    i = i + 1\n",
    "    s = s + i\n",
    "    if s > 15:\n",
    "        continue\n",
    "    i = i + 1\n",
    "print(i)"
   ]
  },
  {
   "cell_type": "code",
   "execution_count": 12,
   "metadata": {},
   "outputs": [
    {
     "name": "stdout",
     "output_type": "stream",
     "text": [
      "11\n",
      "15\n",
      "15\n",
      "16\n",
      "18\n"
     ]
    }
   ],
   "source": [
    "while True:\n",
    "    inp = int(input())\n",
    "    if( inp < 10):\n",
    "        continue\n",
    "    elif(inp > 100):\n",
    "        break\n",
    "    else:\n",
    "        print(inp)"
   ]
  },
  {
   "cell_type": "code",
   "execution_count": 25,
   "metadata": {},
   "outputs": [
    {
     "name": "stdout",
     "output_type": "stream",
     "text": [
      "\t1\t2\t3\t4\t5\t6\t7\t8\t9\t10\t\n",
      "1\t1\t2\t3\t4\t5\t6\t7\t8\t9\t10\n",
      "2\t2\t4\t6\t8\t10\t12\t14\t16\t18\t20\n",
      "3\t3\t6\t9\t12\t15\t18\t21\t24\t27\t30\n",
      "4\t4\t8\t12\t16\t20\t24\t28\t32\t36\t40\n",
      "5\t5\t10\t15\t20\t25\t30\t35\t40\t45\t50\n",
      "6\t6\t12\t18\t24\t30\t36\t42\t48\t54\t60\n",
      "7\t7\t14\t21\t28\t35\t42\t49\t56\t63\t70\n",
      "8\t8\t16\t24\t32\t40\t48\t56\t64\t72\t80\n",
      "9\t9\t18\t27\t36\t45\t54\t63\t72\t81\t90\n",
      "10\t10\t20\t30\t40\t50\t60\t70\t80\t90\t100\n"
     ]
    }
   ],
   "source": [
    "import sys\n",
    "a = int(input())\n",
    "b = int(input())\n",
    "c = int(input())\n",
    "d = int(input())\n",
    "\n",
    "\n",
    "tmp = '\\t'\n",
    "for i in range(c,d+1):\n",
    "    tmp += str(i) + '\\t'\n",
    "    \n",
    "print(tmp)\n",
    "\n",
    "\n",
    "for i in range(a,b+1):\n",
    "    tmp = ''\n",
    "    tmp += str(i)\n",
    "    for j in range(c, d+1):\n",
    "        tmp += '\\t'\n",
    "        tmp += str(i*j)\n",
    "    print(tmp)\n",
    "\n"
   ]
  },
  {
   "cell_type": "code",
   "execution_count": 31,
   "metadata": {},
   "outputs": [
    {
     "name": "stdout",
     "output_type": "stream",
     "text": [
      "4.5\n"
     ]
    }
   ],
   "source": [
    "a = float(input())\n",
    "b = float(input())\n",
    "\n",
    "sum = 0\n",
    "kol = 0\n",
    "divided_by = []\n",
    "\n",
    "if a % 3 != 0:\n",
    "    tmp = a\n",
    "    while tmp % 3 != 0:\n",
    "        tmp += 1\n",
    "    a = tmp\n",
    "\n",
    "for i in range(int(a), int(b)+1, 3):\n",
    "    sum += i\n",
    "    kol += 1\n",
    "print(sum / kol)"
   ]
  },
  {
   "cell_type": "code",
   "execution_count": 38,
   "metadata": {},
   "outputs": [
    {
     "name": "stdout",
     "output_type": "stream",
     "text": [
      "2.73972602739726\n"
     ]
    }
   ],
   "source": [
    "genome = str(input())\n",
    "\n",
    "genome = genome.lower()\n",
    "\n",
    "c_repeats = genome.count('c')\n",
    "g_repeats = genome.count('g')\n",
    "print(float(((int(c_repeats) + int(g_repeats) ) / len(genome)) * 100))"
   ]
  },
  {
   "cell_type": "code",
   "execution_count": 41,
   "metadata": {},
   "outputs": [
    {
     "name": "stdout",
     "output_type": "stream",
     "text": [
      "def abcdef defghijk kjihgfedcba ijk abcde kigec\n"
     ]
    }
   ],
   "source": [
    "s = 'abcdefghijk'\n",
    "tmp = str(s[3:6]) + \" \" + str(s[:6]) + \" \" + str(s[3:]) + \" \" + str(s[::-1]) + \" \" + str(s[-3:])  + \" \" + str(s[:-6]) + \" \" + str(s[-1:-10:-2])\n",
    "print (tmp)\n",
    "\n",
    "\n",
    "\n",
    "\n",
    "\n",
    "\n"
   ]
  },
  {
   "cell_type": "code",
   "execution_count": 52,
   "metadata": {},
   "outputs": [
    {
     "name": "stdout",
     "output_type": "stream",
     "text": [
      "a\n",
      "b\n",
      "c\n",
      "a1b1c1\n"
     ]
    }
   ],
   "source": [
    "dna = str(input())\n",
    "\n",
    "kol_ident_ch = 0\n",
    "prev_ch = dna[0]\n",
    "result_dna = ''\n",
    "\n",
    "for ch in dna:\n",
    "    if prev_ch == ch:\n",
    "        kol_ident_ch += 1\n",
    "    else:\n",
    "        result_dna += prev_ch + str(kol_ident_ch)\n",
    "        kol_ident_ch = 1\n",
    "    prev_ch = ch\n",
    "    \n",
    "result_dna += prev_ch + str(kol_ident_ch)\n",
    "print(result_dna)"
   ]
  },
  {
   "cell_type": "code",
   "execution_count": null,
   "metadata": {},
   "outputs": [],
   "source": []
  },
  {
   "cell_type": "code",
   "execution_count": null,
   "metadata": {},
   "outputs": [],
   "source": []
  }
 ],
 "metadata": {
  "kernelspec": {
   "display_name": ".venv",
   "language": "python",
   "name": "python3"
  },
  "language_info": {
   "codemirror_mode": {
    "name": "ipython",
    "version": 3
   },
   "file_extension": ".py",
   "mimetype": "text/x-python",
   "name": "python",
   "nbconvert_exporter": "python",
   "pygments_lexer": "ipython3",
   "version": "3.10.12"
  }
 },
 "nbformat": 4,
 "nbformat_minor": 2
}
