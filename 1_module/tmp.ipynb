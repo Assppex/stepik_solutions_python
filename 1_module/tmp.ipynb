{
 "cells": [
  {
   "cell_type": "code",
   "execution_count": 1,
   "metadata": {},
   "outputs": [
    {
     "name": "stdout",
     "output_type": "stream",
     "text": [
      "12345554321\n"
     ]
    }
   ],
   "source": [
    "a = 11111\n",
    "b = 1111111\n",
    "\n",
    "print(a*b)"
   ]
  },
  {
   "cell_type": "code",
   "execution_count": 2,
   "metadata": {},
   "outputs": [
    {
     "ename": "ZeroDivisionError",
     "evalue": "division by zero",
     "output_type": "error",
     "traceback": [
      "\u001b[0;31m---------------------------------------------------------------------------\u001b[0m",
      "\u001b[0;31mZeroDivisionError\u001b[0m                         Traceback (most recent call last)",
      "Cell \u001b[0;32mIn[2], line 3\u001b[0m\n\u001b[1;32m      1\u001b[0m a \u001b[38;5;241m=\u001b[39m \u001b[38;5;241m42\u001b[39m\n\u001b[0;32m----> 3\u001b[0m \u001b[38;5;241;43m42\u001b[39;49m\u001b[38;5;241;43m/\u001b[39;49m\u001b[43m(\u001b[49m\u001b[38;5;241;43m4\u001b[39;49m\u001b[43m \u001b[49m\u001b[38;5;241;43m+\u001b[39;49m\u001b[43m \u001b[49m\u001b[38;5;241;43m2\u001b[39;49m\u001b[43m \u001b[49m\u001b[38;5;241;43m*\u001b[39;49m\u001b[43m \u001b[49m\u001b[43m(\u001b[49m\u001b[38;5;241;43m-\u001b[39;49m\u001b[38;5;241;43m2\u001b[39;49m\u001b[43m)\u001b[49m\u001b[43m)\u001b[49m\n",
      "\u001b[0;31mZeroDivisionError\u001b[0m: division by zero"
     ]
    }
   ],
   "source": [
    "a = 42\n",
    "\n",
    "42/(4 + 2 * (-2))"
   ]
  },
  {
   "cell_type": "code",
   "execution_count": 3,
   "metadata": {},
   "outputs": [
    {
     "name": "stdout",
     "output_type": "stream",
     "text": [
      "18064773765607550801425251468864907833685590016\n"
     ]
    }
   ],
   "source": [
    "a = 2014\n",
    "\n",
    "print(pow(a, 14))"
   ]
  },
  {
   "cell_type": "code",
   "execution_count": 4,
   "metadata": {},
   "outputs": [
    {
     "name": "stdout",
     "output_type": "stream",
     "text": [
      "1.806477376560755e+46\n"
     ]
    }
   ],
   "source": [
    "a = 2014.0\n",
    "\n",
    "print(pow(a, 14))"
   ]
  },
  {
   "cell_type": "code",
   "execution_count": 6,
   "metadata": {},
   "outputs": [
    {
     "name": "stdout",
     "output_type": "stream",
     "text": [
      "2.3333333333333335\n",
      "2\n"
     ]
    }
   ],
   "source": [
    "a = 7\n",
    "b = 3\n",
    "print (a / b)\n",
    "print (a // b)"
   ]
  },
  {
   "cell_type": "code",
   "execution_count": 7,
   "metadata": {},
   "outputs": [
    {
     "name": "stdout",
     "output_type": "stream",
     "text": [
      "2\n"
     ]
    }
   ],
   "source": [
    "a = 2.99\n",
    "\n",
    "print (int(a))"
   ]
  },
  {
   "cell_type": "code",
   "execution_count": 8,
   "metadata": {},
   "outputs": [
    {
     "name": "stdout",
     "output_type": "stream",
     "text": [
      "-1\n"
     ]
    }
   ],
   "source": [
    "a = -1.6\n",
    "\n",
    "print(int(a))"
   ]
  },
  {
   "cell_type": "code",
   "execution_count": 11,
   "metadata": {},
   "outputs": [
    {
     "data": {
      "text/plain": [
       "89"
      ]
     },
     "execution_count": 11,
     "metadata": {},
     "output_type": "execute_result"
    }
   ],
   "source": [
    "9 ** 19 - int(float(9 ** 19))"
   ]
  },
  {
   "cell_type": "code",
   "execution_count": 12,
   "metadata": {},
   "outputs": [],
   "source": [
    "a = int(input(\"hello\"))"
   ]
  },
  {
   "cell_type": "code",
   "execution_count": 14,
   "metadata": {},
   "outputs": [
    {
     "name": "stdout",
     "output_type": "stream",
     "text": [
      "8\n",
      "32\n"
     ]
    }
   ],
   "source": [
    "x = int(input())\n",
    "\n",
    "print(x // 60)\n",
    "\n",
    "print(x - (x//60*60))"
   ]
  },
  {
   "cell_type": "code",
   "execution_count": 31,
   "metadata": {},
   "outputs": [
    {
     "name": "stdout",
     "output_type": "stream",
     "text": [
      "Minute result 1, h_res = 8, m_res = 110\n",
      "9\n",
      "50\n"
     ]
    }
   ],
   "source": [
    "x = int(input())\n",
    "h = int(input())\n",
    "m = int(input())\n",
    "\n",
    "h_res = x // 60 + h\n",
    "\n",
    "m_res = m + x % 60\n",
    "\n",
    "# st_t = \"Minute result %d, h_res = %d, m_res = %d\" % (m_res // 60, h_res, m_res)\n",
    "\n",
    "if m_res // 60 > 0:\n",
    "    # print(st_t)\n",
    "    h_res += m_res // 60\n",
    "    m_res = m_res % 60\n",
    "    \n",
    "    \n",
    "print(h_res)\n",
    "print(m_res)\n"
   ]
  },
  {
   "cell_type": "code",
   "execution_count": 32,
   "metadata": {},
   "outputs": [
    {
     "data": {
      "text/plain": [
       "True"
      ]
     },
     "execution_count": 32,
     "metadata": {},
     "output_type": "execute_result"
    }
   ],
   "source": [
    "x = 5\n",
    "y = 10\n",
    "y > x * x or y >= 2 * x and x < y"
   ]
  },
  {
   "cell_type": "code",
   "execution_count": 33,
   "metadata": {},
   "outputs": [
    {
     "data": {
      "text/plain": [
       "False"
      ]
     },
     "execution_count": 33,
     "metadata": {},
     "output_type": "execute_result"
    }
   ],
   "source": [
    "a = True\n",
    "b = False\n",
    "a and b or not a and not b"
   ]
  },
  {
   "cell_type": "code",
   "execution_count": 36,
   "metadata": {},
   "outputs": [
    {
     "name": "stdout",
     "output_type": "stream",
     "text": [
      "Недосып\n"
     ]
    }
   ],
   "source": [
    "a = int(input())\n",
    "b = int(input())\n",
    "h = int(input())\n",
    "\n",
    "if(h < a):\n",
    "    print(\"Недосып\")\n",
    "elif(h > b):\n",
    "    print(\"Пересып\")\n",
    "else:\n",
    "    print(\"Это нормально\")"
   ]
  },
  {
   "cell_type": "code",
   "execution_count": 38,
   "metadata": {},
   "outputs": [
    {
     "name": "stdout",
     "output_type": "stream",
     "text": [
      "Високосный\n"
     ]
    }
   ],
   "source": [
    "n = int(input())\n",
    "\n",
    "if(n < 1900 or n > 3000):\n",
    "    exit(-1)\n",
    "\n",
    "if((n % 4 == 0 and n % 100 != 0) or (n % 400 ==0)):\n",
    "    print(\"Високосный\")\n",
    "else:\n",
    "    print(\"Обычный\")\n"
   ]
  },
  {
   "cell_type": "code",
   "execution_count": 44,
   "metadata": {},
   "outputs": [
    {
     "data": {
      "text/plain": [
       "False"
      ]
     },
     "execution_count": 44,
     "metadata": {},
     "output_type": "execute_result"
    }
   ],
   "source": [
    "\"999\" < \"99\""
   ]
  },
  {
   "cell_type": "code",
   "execution_count": 45,
   "metadata": {},
   "outputs": [
    {
     "data": {
      "text/plain": [
       "'33333333333333333333'"
      ]
     },
     "execution_count": 45,
     "metadata": {},
     "output_type": "execute_result"
    }
   ],
   "source": [
    "\"33\"*10"
   ]
  },
  {
   "cell_type": "code",
   "execution_count": 47,
   "metadata": {},
   "outputs": [
    {
     "name": "stdout",
     "output_type": "stream",
     "text": [
      "6.0\n"
     ]
    }
   ],
   "source": [
    "\n",
    "a = int(input())\n",
    "b = int(input())\n",
    "c = int(input())\n",
    "\n",
    "p = float((a+b+c)/2)\n",
    "\n",
    "tmp = p*(p-a)*(p-b)*(p-c)\n",
    "print(float(tmp ** 0.5))\n"
   ]
  },
  {
   "cell_type": "code",
   "execution_count": 49,
   "metadata": {},
   "outputs": [
    {
     "name": "stdout",
     "output_type": "stream",
     "text": [
      "False\n"
     ]
    }
   ],
   "source": [
    "a = int(input())\n",
    "\n",
    "print((-15 < a <= 12) or (14 < a < 17) or (a >= 19))"
   ]
  },
  {
   "cell_type": "code",
   "execution_count": 52,
   "metadata": {},
   "outputs": [
    {
     "name": "stdout",
     "output_type": "stream",
     "text": [
      "96.0\n"
     ]
    }
   ],
   "source": [
    "a = float(input())\n",
    "b = float(input())\n",
    "c = str(input())\n",
    "\n",
    "if c == '+':\n",
    "    print(a+b)\n",
    "elif c == '-':\n",
    "    print(a-b)\n",
    "elif c == '/':\n",
    "    if(b == 0):\n",
    "        print(\"Деление на 0!\")\n",
    "    else:\n",
    "        print(a/b)\n",
    "elif c == '*':\n",
    "    print(a*b)\n",
    "elif c == 'mod':\n",
    "    if(b == 0):\n",
    "        print(\"Деление на 0!\")\n",
    "    else:\n",
    "        print(a%b)\n",
    "elif c == 'pow':\n",
    "    print(pow(a, b))\n",
    "elif c == 'div':\n",
    "    if(b == 0):\n",
    "        print(\"Деление на 0!\")\n",
    "    else:\n",
    "        print(a//b)\n",
    "    \n",
    "    "
   ]
  },
  {
   "cell_type": "code",
   "execution_count": 59,
   "metadata": {},
   "outputs": [
    {
     "name": "stdout",
     "output_type": "stream",
     "text": [
      "1\n"
     ]
    }
   ],
   "source": [
    "tmp = {'div':'//','mod':'%','pow':'**'}\n",
    "a = '5'\n",
    "b = '3'\n",
    "c = 'div'\n",
    "try:\n",
    "    eval(\"print(\" + a + tmp[c] + b + ')')\n",
    "except ZeroDivisionError:\n",
    "    print('Деление на 0!')\n"
   ]
  },
  {
   "cell_type": "code",
   "execution_count": 67,
   "metadata": {},
   "outputs": [
    {
     "name": "stdout",
     "output_type": "stream",
     "text": [
      "6.0\n"
     ]
    }
   ],
   "source": [
    "\n",
    "a = str(input())\n",
    "\n",
    "if a == 'прямоугольник':\n",
    "    b = float(input())\n",
    "    c = float(input())\n",
    "    print(b*c)\n",
    "elif a == 'треугольник':\n",
    "    b = float(input())\n",
    "    c = float(input())\n",
    "    d = float(input())\n",
    "    \n",
    "    p = float((d+b+c)/2)\n",
    "\n",
    "    tmp = p*(p-d)*(p-b)*(p-c)\n",
    "    print(float(tmp ** 0.5))\n",
    "else:\n",
    "    r = float(input())\n",
    "    print(3.14*r*r)"
   ]
  },
  {
   "cell_type": "code",
   "execution_count": 71,
   "metadata": {},
   "outputs": [
    {
     "name": "stdout",
     "output_type": "stream",
     "text": [
      "14\n",
      "2\n",
      "8\n"
     ]
    }
   ],
   "source": [
    "a = []\n",
    "a.append(int(input()))\n",
    "a.append(int(input()))\n",
    "a.append(int(input()))\n",
    "\n",
    "for i in range(0,3):\n",
    "    for j in range(0,3):\n",
    "        if i!=j and a[i] > a[j] and i > j:\n",
    "            tmp = a[j]\n",
    "            a[j] = a[i]\n",
    "            a[i] = tmp  \n",
    "\n",
    "_max = a[0]\n",
    "_min = a[2]\n",
    "ost = a[1]\n",
    "\n",
    "print(_max)\n",
    "print(_min)\n",
    "print(ost)\n"
   ]
  },
  {
   "cell_type": "code",
   "execution_count": 73,
   "metadata": {},
   "outputs": [
    {
     "name": "stdout",
     "output_type": "stream",
     "text": [
      "5 программистов\n"
     ]
    }
   ],
   "source": [
    "s = int (input())\n",
    "n1 =\" программистов\"\n",
    "n2 =\" программист\"\n",
    "n3 =\" программиста\"\n",
    "if  s>=0:\n",
    "  if s==0:\n",
    "    print(str(s) + n1)\n",
    "  elif s%100>=10 and s%100<=20:\n",
    "    print(str(s) + n1)\n",
    "  elif s%10==1:\n",
    "    print(str(s) + n2)\n",
    "  elif s%10>=2 and s%10<=4:\n",
    "    print(str(s) + n3)\n",
    "  else:\n",
    "    print(str(s) + n1)"
   ]
  },
  {
   "cell_type": "code",
   "execution_count": 77,
   "metadata": {},
   "outputs": [
    {
     "name": "stdout",
     "output_type": "stream",
     "text": [
      "Счастливый\n"
     ]
    }
   ],
   "source": [
    "s = str(input())\n",
    "\n",
    "if int(s[0]) + int(s[1]) + int(s[2]) == int(s[3]) + int(s[4]) + int(s[5]):\n",
    "    print('Счастливый')\n",
    "else:\n",
    "    print('Обычный')"
   ]
  },
  {
   "cell_type": "code",
   "execution_count": null,
   "metadata": {},
   "outputs": [],
   "source": []
  }
 ],
 "metadata": {
  "kernelspec": {
   "display_name": "Python 3",
   "language": "python",
   "name": "python3"
  },
  "language_info": {
   "codemirror_mode": {
    "name": "ipython",
    "version": 3
   },
   "file_extension": ".py",
   "mimetype": "text/x-python",
   "name": "python",
   "nbconvert_exporter": "python",
   "pygments_lexer": "ipython3",
   "version": "3.10.12"
  }
 },
 "nbformat": 4,
 "nbformat_minor": 2
}
